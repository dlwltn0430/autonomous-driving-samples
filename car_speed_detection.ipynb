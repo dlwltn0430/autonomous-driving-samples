{
  "nbformat": 4,
  "nbformat_minor": 0,
  "metadata": {
    "colab": {
      "provenance": [],
      "authorship_tag": "ABX9TyPSOIbXLWSVToz/EAXLqXAz",
      "include_colab_link": true
    },
    "kernelspec": {
      "name": "python3",
      "display_name": "Python 3"
    },
    "language_info": {
      "name": "python"
    }
  },
  "cells": [
    {
      "cell_type": "markdown",
      "metadata": {
        "id": "view-in-github",
        "colab_type": "text"
      },
      "source": [
        "<a href=\"https://colab.research.google.com/github/dlwltn0430/autonomous-driving-samples/blob/main/car_speed_detection.ipynb\" target=\"_parent\"><img src=\"https://colab.research.google.com/assets/colab-badge.svg\" alt=\"Open In Colab\"/></a>"
      ]
    },
    {
      "cell_type": "code",
      "execution_count": null,
      "metadata": {
        "id": "p-SuOs-TP8xC"
      },
      "outputs": [],
      "source": [
        "!pip install tensorflow keras opencv-python-headless"
      ]
    },
    {
      "cell_type": "code",
      "source": [
        "import cv2\n",
        "import numpy as np\n",
        "import time\n",
        "from google.colab.patches import cv2_imshow\n",
        "\n",
        "# 차량 이동 거리 계산을 위한 함수\n",
        "def calculate_distance(p1, p2):\n",
        "    return np.sqrt((p2[0] - p1[0])**2 + (p2[1] - p1[1])**2)\n",
        "\n",
        "# 차량 속도 계산을 위한 함수\n",
        "def calculate_speed(distance, time_elapsed):\n",
        "    return (distance / time_elapsed) * 3.6  # m/s를 km/h로 변환\n",
        "\n",
        "# 비디오 캡처 시작\n",
        "cap = cv2.VideoCapture('driving_video.mp4')\n",
        "fps = cap.get(cv2.CAP_PROP_FPS)\n",
        "\n",
        "# 첫 번째 프레임 읽기\n",
        "ret, frame1 = cap.read()\n",
        "prev_gray = cv2.cvtColor(frame1, cv2.COLOR_BGR2GRAY)\n",
        "prev_points = cv2.goodFeaturesToTrack(prev_gray, maxCorners=100, qualityLevel=0.3, minDistance=7, blockSize=7)\n",
        "\n",
        "speeds = []\n",
        "prev_time = time.time()\n",
        "\n",
        "while cap.isOpened():\n",
        "    ret, frame2 = cap.read()\n",
        "    if not ret:\n",
        "        break\n",
        "\n",
        "    gray = cv2.cvtColor(frame2, cv2.COLOR_BGR2GRAY)\n",
        "    next_points, status, _ = cv2.calcOpticalFlowPyrLK(prev_gray, gray, prev_points, None)\n",
        "\n",
        "    # 유효한 포인트만 선택\n",
        "    good_new = next_points[status == 1]\n",
        "    good_old = prev_points[status == 1]\n",
        "\n",
        "    # 각 프레임 간의 속도 계산\n",
        "    distances = [calculate_distance(p1, p2) for p1, p2 in zip(good_old, good_new)]\n",
        "    avg_distance = np.mean(distances)\n",
        "\n",
        "    current_time = time.time()\n",
        "    time_elapsed = current_time - prev_time\n",
        "    speed = calculate_speed(avg_distance, time_elapsed)\n",
        "    speeds.append(speed)\n",
        "\n",
        "    # 프레임 업데이트\n",
        "    prev_gray = gray.copy()\n",
        "    prev_points = good_new.reshape(-1, 1, 2)\n",
        "    prev_time = current_time\n",
        "\n",
        "    # 속도 표시\n",
        "    cv2.putText(frame2, f'Speed: {speed:.2f} km/h', (10, 30), cv2.FONT_HERSHEY_SIMPLEX, 1, (0, 255, 0), 2)\n",
        "    cv2_imshow(frame2)\n",
        "\n",
        "    if cv2.waitKey(1) & 0xFF == ord('q'):\n",
        "        break\n",
        "\n",
        "cap.release()\n",
        "cv2.destroyAllWindows()\n",
        "\n",
        "# 평균 속도 계산 및 출력\n",
        "average_speed = np.mean(speeds)\n",
        "print(f'Average Speed: {average_speed:.2f} km/h')"
      ],
      "metadata": {
        "id": "Rx07EeJIQtti"
      },
      "execution_count": null,
      "outputs": []
    }
  ]
}