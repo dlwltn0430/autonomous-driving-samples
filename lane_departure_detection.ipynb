{
  "nbformat": 4,
  "nbformat_minor": 0,
  "metadata": {
    "colab": {
      "provenance": [],
      "authorship_tag": "ABX9TyOKOugzdTe0GDsft6MVAKrc",
      "include_colab_link": true
    },
    "kernelspec": {
      "name": "python3",
      "display_name": "Python 3"
    },
    "language_info": {
      "name": "python"
    }
  },
  "cells": [
    {
      "cell_type": "markdown",
      "metadata": {
        "id": "view-in-github",
        "colab_type": "text"
      },
      "source": [
        "<a href=\"https://colab.research.google.com/github/dlwltn0430/autonomous-driving-samples/blob/main/lane_departure_detection.ipynb\" target=\"_parent\"><img src=\"https://colab.research.google.com/assets/colab-badge.svg\" alt=\"Open In Colab\"/></a>"
      ]
    },
    {
      "cell_type": "code",
      "execution_count": 1,
      "metadata": {
        "colab": {
          "base_uri": "https://localhost:8080/"
        },
        "id": "UKLof5E_ODYo",
        "outputId": "77b6ab50-d196-4388-dcba-97f80e12d070"
      },
      "outputs": [
        {
          "output_type": "stream",
          "name": "stdout",
          "text": [
            "Requirement already satisfied: opencv-python in /usr/local/lib/python3.10/dist-packages (4.8.0.76)\n",
            "Requirement already satisfied: numpy in /usr/local/lib/python3.10/dist-packages (1.25.2)\n"
          ]
        }
      ],
      "source": [
        "!pip install opencv-python numpy"
      ]
    },
    {
      "cell_type": "code",
      "source": [
        "import cv2\n",
        "import numpy as np\n",
        "from google.colab.patches import cv2_imshow\n",
        "\n",
        "def region_of_interest(img, vertices):\n",
        "    mask = np.zeros_like(img)\n",
        "    cv2.fillPoly(mask, vertices, 255)\n",
        "    masked_image = cv2.bitwise_and(img, mask)\n",
        "    return masked_image\n",
        "\n",
        "def draw_lines(img, lines):\n",
        "    for line in lines:\n",
        "        for x1, y1, x2, y2 in line:\n",
        "            cv2.line(img, (x1, y1), (x2, y2), (0, 255, 0), 10)\n",
        "\n",
        "def process_frame(frame):\n",
        "    height, width = frame.shape[:2]\n",
        "    gray = cv2.cvtColor(frame, cv2.COLOR_BGR2GRAY)\n",
        "    blur = cv2.GaussianBlur(gray, (5, 5), 0)\n",
        "    edges = cv2.Canny(blur, 50, 150)\n",
        "\n",
        "    vertices = np.array([[(0, height), (width//2, height//2), (width, height)]], dtype=np.int32)\n",
        "    roi = region_of_interest(edges, vertices)\n",
        "\n",
        "    lines = cv2.HoughLinesP(roi, 1, np.pi/180, 100, minLineLength=40, maxLineGap=5)\n",
        "\n",
        "    line_image = np.zeros_like(frame)\n",
        "    if lines is not None:\n",
        "        draw_lines(line_image, lines)\n",
        "\n",
        "    combined = cv2.addWeighted(frame, 0.8, line_image, 1, 1)\n",
        "    return combined\n",
        "\n",
        "cap = cv2.VideoCapture('lane_departure.mp4')\n",
        "\n",
        "while cap.isOpened():\n",
        "    ret, frame = cap.read()\n",
        "    if not ret:\n",
        "        break\n",
        "\n",
        "    processed_frame = process_frame(frame)\n",
        "    cv2_imshow(processed_frame)\n",
        "\n",
        "    if cv2.waitKey(1) & 0xFF == ord('q'):\n",
        "        break\n",
        "\n",
        "cap.release()\n",
        "cv2.destroyAllWindows()"
      ],
      "metadata": {
        "id": "6qiLRNlROG-D"
      },
      "execution_count": null,
      "outputs": []
    }
  ]
}